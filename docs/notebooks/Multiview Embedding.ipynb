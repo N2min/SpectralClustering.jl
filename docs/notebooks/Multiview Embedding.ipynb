{
 "cells": [
  {
   "cell_type": "code",
   "execution_count": 4,
   "metadata": {
    "hide_input": false
   },
   "outputs": [],
   "source": [
    "push!(LOAD_PATH, joinpath(Pkg.dir(\"SpectralClustering\"), \"docs\"));"
   ]
  },
  {
   "cell_type": "markdown",
   "metadata": {},
   "source": [
    "# Multiview Embedding"
   ]
  },
  {
   "cell_type": "markdown",
   "metadata": {},
   "source": [
    "## Co-Regularized Multiview Spectral Clustering\n",
    "When the dataset has more than one representation, each of them is named view. In the context of spectral clustering, \n",
    "co-regularization techniques attempt to encourage the similarity of the examples in the new representation generated \n",
    "from the eigenvectors of each view.\n",
    "\n",
    "Let $X^{(v)}=\\{ x_1^{(v)}, x_2^{(v)},...,x_m^{(v)}\\}$ be the samples for view $v$ and $L^{(v)}$ the Laplacian matrix \n",
    "created from $X$ for view $v$. $U^{(v)}$ is defined as the matrix formed by the first $k$ eigenvectors  of the Laplacian Matrix. A criterion was proposed in \\cite{Kumar11} that measures the disagreement between two \n",
    "representations: \n",
    "\n",
    "\n",
    "  $$\n",
    "  D(U^{(v)}, U^{(w)}) = \\norm{ \\frac{K_{U^{(v)}}} {\\norm{K_{U^{(v)}}}_F} -\\frac{K_{U^{(w)}}}\n",
    "  {\\norm{K_{U^{(w)}}}_F}}_F^2\n",
    "  $$\n",
    "\n",
    " where $K_{U^{(v)}}$ is the similarity matrix generated from the patterns of the new representation $U^{(v)}$ \n",
    "and $\\vert \\vert  \\cdot \\vert \\vert_F $ is the Frobenius norm. If the inner product among the vectors is used as similarity measure, \n",
    "$K_{U^{(v)}} = U^{(v)}{U^{(v)}}^T$ is obtained. Ignoring the constant additive and scaling terms, the previous equation \n",
    "can be formulated as follows: \n",
    "\n",
    "\n",
    "  $$\n",
    "   D(U^{(v)}, U^{(w)}) = -\\Tr{  U^{(v)}{U^{(v)}}^T  U^{(w)}{U^{(w)}}^T } \n",
    "  $$\n",
    "\n",
    "The objective is to minimize the disagreement  among the representations obtained from each view. Therefore, if we have \n",
    "$m$ views, we obtain the following optimization problem that combines the invididual spectral clustering objectives and \n",
    "the objective that determines the disagreement among the representations: \n",
    "\n",
    "$$\n",
    "\\begin{equation*}\n",
    "\\begin{aligned}\n",
    "& \\underset{\\begin{matrix} U^{(i)} \\in R^{n \\times k}, \\\\ 1 \\leq i \\leq m \n",
    "\\end{matrix}}{\\text{max}}\n",
    "& & \\sum\\limits_{v=1}^m \\Tr{{U^{(v)}}^T L^{(v)}  U^{(v)}} + \\lambda \\sum\\limits_{ {\\begin{matrix} 1 \\leq v, w \\leq m\\\\ v\\neq w \\end{matrix} } } \n",
    "\\Tr{{U^{(w)}}^T L^{(w)} U^{(w)}} \\\\\n",
    "& \\text{subject to}\n",
    "& & {U^{(v)}}^T U^{(v)} =  I \\hspace{10pt} \\forall 1 \\leq v \\leq m\n",
    "\\end{aligned}\n",
    "\\end{equation*}\n",
    "$$\n",
    "\n",
    "The $\\lambda$ parameter balances the spectral clustering objective and the disagreement among the \n",
    "representations. The problem of \n",
    "joint optimization can be solved using alternating maximization. Given $U^{(w)}, 1 \\leq w \\leq m $, the following \n",
    "problem of optimization is obtained for $U^{(v)}, v\\neq w$:\n",
    "$$\n",
    "\\begin{equation*}\n",
    "\\begin{aligned}\n",
    "& \\underset{U^{(v)} \\in R^{n \\times k}}{\\text{max}}\n",
    "& & \\Tr{ {U^{(v)}}^T \\left(  LM^{(v)} \\right) U^{(v)}} \\\\\n",
    "& \\text{subject to}\n",
    "& & {U^{(v)}}^T U^{(v)} =   I\n",
    "\\end{aligned}\n",
    "\\end{equation*}\n",
    "$$\n",
    "\n",
    "resulting in a traditional clustering algorithm with the Laplacian matrix modified  \n",
    "$$\n",
    "LM^{(v)} = L^{(v)} + \\lambda \\sum\\limits_{{\\begin{matrix} 1 \\leq w \\leq m \\\\ v \\neq w \\end{matrix}}} U^{(w)}{U^{(w)}}^T \n",
    "$$\n"
   ]
  },
  {
   "cell_type": "markdown",
   "metadata": {},
   "source": [
    "## Example\n",
    "This example uses the same dataset as the authors of the method. \"The UCI Handwritten digits data is taken from the handwritten digits (0-9) data from the UCI repository. The dataset consists of 2000 examples, with view-1\n",
    "being the 76 Fourier coefficients, and view-2 being the 216 profile correlations of each example image.\"\n",
    "It is used a Gausisan kernel for computing graph similarities and the $\\sigma$ is the median of the pair-wise Euclidean distances between the data points. \n",
    "The Co-regularization parameter is $\\lambda=0.01$.\n",
    "The output of the example shows the normalized mutual information (NMI) as the clustering quality evaluation measure for a single-view case and the multi-view case.\n",
    "\n",
    "- Dataset: https://archive.ics.uci.edu/ml/datasets/Multiple+Features\n"
   ]
  },
  {
   "cell_type": "code",
   "execution_count": 5,
   "metadata": {},
   "outputs": [
    {
     "name": "stderr",
     "output_type": "stream",
     "text": [
      "\u001b[1m\u001b[36mINFO: \u001b[39m\u001b[22m\u001b[36mRecompiling stale cache file /home/luciano/.julia/lib/v0.6/InfoZIP.ji for module InfoZIP.\n",
      "\u001b[39m\u001b[1m\u001b[33mWARNING: \u001b[39m\u001b[22m\u001b[33mInfoZIP falling back to ZipFile.jl backend!\u001b[39m\n",
      "\u001b[1m\u001b[36mINFO: \u001b[39m\u001b[22m\u001b[36mRecompiling stale cache file /home/luciano/.julia/lib/v0.6/LegacyStrings.ji for module LegacyStrings.\n",
      "\u001b[39m\u001b[1m\u001b[36mINFO: \u001b[39m\u001b[22m\u001b[36mRecompiling stale cache file /home/luciano/.julia/lib/v0.6/DataFrames.ji for module DataFrames.\n",
      "\u001b[39m\u001b[1m\u001b[36mINFO: \u001b[39m\u001b[22m\u001b[36mRecompiling stale cache file /home/luciano/.julia/lib/v0.6/BinDeps.ji for module BinDeps.\n",
      "\u001b[39m\u001b[1m\u001b[36mINFO: \u001b[39m\u001b[22m\u001b[36mRecompiling stale cache file /home/luciano/.julia/lib/v0.6/Latexify.ji for module Latexify.\n",
      "\u001b[39m"
     ]
    }
   ],
   "source": [
    "using SpectralClustering, Extras, Distances, Extras, Clustering, Latexify, LaTeXStrings\n",
    "\n",
    "function weight(i::Integer, neigh, v, m, scale)\n",
    "    return exp.(-Distances.colwise(SqEuclidean(),m,v)./(2*scale^2))\n",
    "end\n",
    "datasets  = digit_features()\n",
    "graphs = []\n",
    "for d in datasets\n",
    "    scale = median(pairwise(Euclidean(),d))\n",
    "    knnconfig   = KNNNeighborhood(d,10)\n",
    "    weight_oracle = (i,neigh,v,m)->weight(i,neigh,v,m,copy(scale))\n",
    "    push!(graphs,create(Float32,knnconfig,weight_oracle,d))\n",
    "end\n",
    "\n",
    "multiview = CoRegularizedMultiView(10.0,\n",
    "                                     [ View(NgLaplacian(5), 0.01), \n",
    "                                       View(NgLaplacian(5), 0.01) ])\n",
    "\n",
    "perf = []\n",
    "U1 = embedding(multiview, graphs; disagreement = perf)\n",
    "U1        = clusterize( KMeansClusterizer(10), U1)\n",
    "U2        = clusterize(NgLaplacian(5), KMeansClusterizer(10), graphs[1])\n",
    "labels    = vec(hcat([ones(Integer,200)*j for j=1:10]...))\n",
    "\n",
    "NMI_1 = round(Extras.NMI(assignments(U1), labels),3);\n",
    "NMI_2 = round(Extras.NMI(assignments(U2), labels),3);\n"
   ]
  },
  {
   "cell_type": "code",
   "execution_count": 1,
   "metadata": {
    "hide_input": false,
    "scrolled": true
   },
   "outputs": [
    {
     "ename": "LoadError",
     "evalue": "\u001b[91mUndefVarError: Plots not defined\u001b[39m",
     "output_type": "error",
     "traceback": [
      "\u001b[91mUndefVarError: Plots not defined\u001b[39m",
      "",
      "Stacktrace:",
      " [1] \u001b[1minclude_string\u001b[22m\u001b[22m\u001b[1m(\u001b[22m\u001b[22m::String, ::String\u001b[1m)\u001b[22m\u001b[22m at \u001b[1m./loading.jl:522\u001b[22m\u001b[22m"
     ]
    }
   ],
   "source": [
    "plt = Plots.plot(perf, ylim=(maximum(perf)/1.5, maximum(perf)), legend=false, \n",
    "                       seriestype=:scatter, xlabel=\"Iteration\", ylabel=\"Disagreement\")\n",
    "plt_html = IOBuffer()\n",
    "show(plt_html, \"text/html\", plt)\n",
    "display(\"text/html\", \n",
    "    \"\"\"\n",
    "    <style>\n",
    "    #NMI h2{\n",
    "    text-align:center  ;\n",
    "    margin:1em;\n",
    "    \n",
    "    }\n",
    "    #NMI td {\n",
    "       padding:2em;\n",
    "    }\n",
    "    #NMI_table {\n",
    "    text-align:center;\n",
    "    margin-left:auto;\n",
    "    margin-right:auto;\n",
    "    }\n",
    "    #NMI_table td {\n",
    "         padding: 1em;\n",
    "    }\n",
    "    \n",
    "    </style>\n",
    "       <table id=\"NMI\" >\n",
    "    <tr >\n",
    "      <td>\n",
    "        <h2 >Performance of the algorithm</h2> \n",
    "       <table  id=\"NMI_table\"> \n",
    "          <tr > \n",
    "            <th> Algorithm </th>     <th> NMI </th> \n",
    "    </tr> \n",
    "         <tr>\n",
    "           <td> NMI Multi View </td> <td> $NMI_1 </td>\n",
    "      </tr>\n",
    "     <tr>\n",
    "           <td> NMI Single View </td> <td> $NMI_2 </td>\n",
    "        </tr>\n",
    "       </table>\n",
    "    </td>\n",
    "    <td>\n",
    "         <h2>Convergence</h2>\n",
    "          $(String(plt_html))\n",
    "    </td>\n",
    "    </tr>\n",
    "    </table>\"\"\")"
   ]
  },
  {
   "cell_type": "markdown",
   "metadata": {},
   "source": [
    "# Comparison"
   ]
  },
  {
   "cell_type": "code",
   "execution_count": 7,
   "metadata": {},
   "outputs": [
    {
     "ename": "LoadError",
     "evalue": "\u001b[91mUndefVarError: weight_matrix not defined\u001b[39m",
     "output_type": "error",
     "traceback": [
      "\u001b[91mUndefVarError: weight_matrix not defined\u001b[39m",
      "",
      "Stacktrace:",
      " [1] \u001b[1membedding\u001b[22m\u001b[22m\u001b[1m(\u001b[22m\u001b[22m::SpectralClustering.KernelProduct, ::Array{Any,1}\u001b[1m)\u001b[22m\u001b[22m at \u001b[1m/home/luciano/.julia/v0.6/SpectralClustering/src/MultiView.jl:96\u001b[22m\u001b[22m",
      " [2] \u001b[1mclusterize\u001b[22m\u001b[22m\u001b[1m(\u001b[22m\u001b[22m::SpectralClustering.KernelProduct, ::SpectralClustering.KMeansClusterizer, ::Array{Any,1}\u001b[1m)\u001b[22m\u001b[22m at \u001b[1m/home/luciano/.julia/v0.6/SpectralClustering/src/EigenvectorClustering.jl:92\u001b[22m\u001b[22m",
      " [3] \u001b[1minclude_string\u001b[22m\u001b[22m\u001b[1m(\u001b[22m\u001b[22m::String, ::String\u001b[1m)\u001b[22m\u001b[22m at \u001b[1m./loading.jl:522\u001b[22m\u001b[22m"
     ]
    }
   ],
   "source": [
    "using SpectralClustering, Extras, Distances, Extras, Clustering, Latexify, LaTeXStrings, DataFrames\n",
    "\n",
    "function weight(i::Integer, neigh, v, m, scale)\n",
    "    return exp.(-Distances.colwise(SqEuclidean(),m,v)./(2*scale^2))\n",
    "end\n",
    "datasets  = digit_features()\n",
    "graphs = []\n",
    "for d in datasets\n",
    "    scale = median(pairwise(Euclidean(),d))\n",
    "    knnconfig   = KNNNeighborhood(d,10)\n",
    "    weight_oracle = (i,neigh,v,m)->weight(i,neigh,v,m,copy(scale))\n",
    "    push!(graphs,create(Float32,knnconfig,weight_oracle,d))\n",
    "end\n",
    "\n",
    "\n",
    "multiview   = CoRegularizedMultiView(10.0,\n",
    "                                     [ View(NgLaplacian(5), 0.01), \n",
    "                                       View(NgLaplacian(5), 0.01) ])\n",
    "multiview_c = embedding(multiview, graphs; disagreement = perf)\n",
    "multiview_c        = clusterize( KMeansClusterizer(10), multiview_c)\n",
    "\n",
    "kernel_pr   = KernelProduct(NgLaplacian(5))\n",
    "kernel_pr_c = clusterize(kernel_pr, KMeansClusterizer(10), graphs)\n",
    "\n",
    "kernel_ad   = KernelAddition(NgLaplacian(5))\n",
    "kernel_ad_c = clusterize(kernel_ad, KMeansClusterizer(10), graphs)\n",
    "\n",
    "labels    = vec(hcat([ones(Integer,200)*j for j=1:10]...))\n",
    "\n",
    "NMI_1 = round(Extras.NMI(assignments(multiview_c), labels),3);\n",
    "NMI_2 = round(Extras.NMI(assignments(kernel_pr_c), labels),3);\n",
    "NMI_3 = round(Extras.NMI(assignments(kernel_ad_c), labels),3);\n",
    "DataFrame(NMI=[NMI_1, NMI_2, NMI_3])\n",
    "\n"
   ]
  },
  {
   "cell_type": "code",
   "execution_count": 5,
   "metadata": {},
   "outputs": [
    {
     "name": "stderr",
     "output_type": "stream",
     "text": [
      "WARNING: Method definition embedding(SpectralClustering.CoRegularizedMultiView, Array{T, 1} where T) in module SpectralClustering at /home/luciano/.julia/v0.6/SpectralClustering/src/MultiView.jl:44 overwritten at /home/luciano/.julia/v0.6/SpectralClustering/src/MultiView.jl:44.\n",
      "WARNING: Method definition #embedding(Array{Any, 1}, typeof(SpectralClustering.embedding), SpectralClustering.CoRegularizedMultiView, Array{T, 1} where T) in module SpectralClustering overwritten.\n",
      "\u001b[1m\u001b[33mWARNING: \u001b[39m\u001b[22m\u001b[33mreplacing docs for 'SpectralClustering.embedding :: Tuple{SpectralClustering.CoRegularizedMultiView,Array{T,1} where T}' in module 'SpectralClustering'.\u001b[39m\n"
     ]
    },
    {
     "ename": "LoadError",
     "evalue": "\u001b[91mUndefVarError: NMI_1 not defined\u001b[39m",
     "output_type": "error",
     "traceback": [
      "\u001b[91mUndefVarError: NMI_1 not defined\u001b[39m",
      "",
      "Stacktrace:",
      " [1] \u001b[1minclude_string\u001b[22m\u001b[22m\u001b[1m(\u001b[22m\u001b[22m::String, ::String\u001b[1m)\u001b[22m\u001b[22m at \u001b[1m./loading.jl:522\u001b[22m\u001b[22m"
     ]
    }
   ],
   "source": [
    "display(\"text/markdown\",\"\"\"\n",
    "|    | Co-Regularized | Kernel Product | Kernel Addition | \\n\n",
    "|----|----------------|----------------|-----------------|\n",
    "| NMI|  $NMI_1         | $NMI_2        | $NMI_3          | \\n\n",
    "\"\"\")"
   ]
  },
  {
   "cell_type": "markdown",
   "metadata": {},
   "source": [
    "# References"
   ]
  },
  {
   "cell_type": "code",
   "execution_count": 4,
   "metadata": {
    "hide_input": true
   },
   "outputs": [
    {
     "data": {
      "text/html": [
       "<!DOCTYPE html PUBLIC \"-//W3C//DTD HTML 4.01//EN\">\n",
       "<html>\n",
       "<head><meta name=\"generator\" content=\"Pybtex\">\n",
       "<meta http-equiv=\"Content-Type\" content=\"text/html; charset=utf-8\">\n",
       "<title>Bibliography</title>\n",
       "</head>\n",
       "<body>\n",
       "<dl>\n",
       "<dt> <a name=\"kumar2011co\">KRD011</a></dt>\n",
       "<dd>Abhishek Kumar, Piyush Rai, and Hal Daume.\n",
       "Co-regularized multi-view spectral clustering.\n",
       "In <em>Advances in neural information processing systems</em>. 2011.</dd>\n",
       "</dl></body></html>\n"
      ]
     },
     "metadata": {},
     "output_type": "display_data"
    }
   ],
   "source": [
    "using DocUtils\n",
    "display(\"text/html\",bibliography([\"kumar2011co\"]))\n"
   ]
  }
 ],
 "metadata": {
  "kernelspec": {
   "display_name": "Julia 0.6.2",
   "language": "julia",
   "name": "julia-0.6"
  },
  "language_info": {
   "file_extension": ".jl",
   "mimetype": "application/julia",
   "name": "julia",
   "version": "0.6.2"
  }
 },
 "nbformat": 4,
 "nbformat_minor": 2
}
