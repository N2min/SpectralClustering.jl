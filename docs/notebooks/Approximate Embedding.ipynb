{
 "cells": [
  {
   "cell_type": "code",
   "execution_count": 2,
   "metadata": {},
   "outputs": [],
   "source": [
    "push!(LOAD_PATH, joinpath(Pkg.dir(\"SpectralClustering\"), \"docs\"));"
   ]
  },
  {
   "cell_type": "markdown",
   "metadata": {},
   "source": [
    "# Approximate embedding"
   ]
  },
  {
   "cell_type": "markdown",
   "metadata": {},
   "source": [
    "## Spectral Gruping using  Nystrom Method\n",
    "It is possible obtain a approximation of the laplacian eigenvectors evaluating the simmiliarty of a small set of elements and then approximating the remaining affinites. Let be   $A \\subset X$ a subset of sampled patterns and let $B = V - A$ be the rest of the non sampled patterns.   $W_A$ is the simmilarity matrix derived from the data contained in $A$ and $L_A$ is the laplacian matrix of  $W_A$.\n",
    "  $W_B$ and $L_B$ are the matrices corresponding to the affinities of the patterns of $A$ and $B$. It is possible define $L$ as:\n",
    "$$\n",
    "  W=\\def\\arraystretch{1.5}\n",
    "  \\begin{bmatrix}\n",
    "    W_A & W_B \\\\\n",
    "    W_B^T & W_C\n",
    "  \\end{bmatrix}\n",
    "   L=\\def\\arraystretch{1.5}\n",
    "  \\begin{bmatrix}\n",
    "    L_A & L_B \\\\\n",
    "    L_B^T & L_C\n",
    "  \\end{bmatrix}\n",
    "$$\n",
    "  It can be obtained an approximation of $W$, called $\\hat{W}$,  from  $A$ and   $B$:\n",
    "  \n",
    "$$\n",
    "  \\hat{W} = \\bar{U}\\Lambda \\bar{U}^T\n",
    "\t      =  \\begin{bmatrix} A   & B \\\\\n",
    "\t\t\t\tB^T & B^T A^{-1} B\n",
    "\t\t\\end{bmatrix}\n",
    "$$\n",
    "\n",
    "  In order to obtain the eigenvectors of the approximate laplacian matrix,  $\\hat{L} =  \\hat{D}^{\\frac{1}{2}} \\hat{W}\n",
    "  \\hat{D}^{\\frac{1}{2}}$,   $\\hat{L_A}$ and  $\\hat{L_B}$  have to be computed: \n",
    "$\\hat{{L_A}_{ij}} = \\frac{W_{A_{ij}}}{\\sqrt{\\hat{d}_i \\hat{d}_j}}$ and $ \\hat{{L_B}_{ij}}= \\frac{W_{B_{ij}}}{\\sqrt{\\hat{d}_i \\hat{d}_{j+|A|}}} $\n",
    "\n",
    " where $\\hat{d} = \\hat{W} \\mathbf{1}$.  If $\\hat{L_A}$ is positive definite, it is possible to find an approximation of the orthogonals eigevectors in a single step. Let be  $ S=\\hat{L_{A}} + \\hat{L_{A}}^{-\\frac{1}{2}}\\hat{L_{B}}\\hat{L_{B}}^T\n",
    "\\hat{L_{A}}^{-\\frac{1}{2}} $ and its diagonalization  $S=U_S \\Lambda_S U_S^T$,   [Fowkles et al.](#fowlkes2004spectral)  showed that if the matrix $V$ is defined as\n",
    "\n",
    "$$  \n",
    "  V=\\begin{bmatrix} \\hat{L_A} \\\\ \\hat{L_B}^T \\end{bmatrix}\n",
    "  \\hat{L_A}^{-\\frac{1}{2}} U_S \\Lambda_S^{-\\frac{1}{2}}  \n",
    "$$\n",
    "\n",
    "  $\\hat{L}$ is diagonalized by  $V$ and by $\\Lambda_S$ y $V^T V = I$\n",
    "\n",
    "The `NystromMethod` type allows to obtain approximate eigenvectors. The following things have to be defined in order to instatiante this type:\n",
    "- A method to sample points Landmark Selection.\n",
    "- The number of points to be sampled.\n",
    "- The simmilarity function between patterns.\n",
    "- The number of eigevectors to obtain."
   ]
  },
  {
   "cell_type": "code",
   "execution_count": 19,
   "metadata": {},
   "outputs": [
    {
     "ename": "LoadError",
     "evalue": "\u001b[91mBoundsError: attempt to access 262144×3 Array{Float64,2} at index [Base.Slice(Base.OneTo(262144)), 4]\u001b[39m",
     "output_type": "error",
     "traceback": [
      "\u001b[91mBoundsError: attempt to access 262144×3 Array{Float64,2} at index [Base.Slice(Base.OneTo(262144)), 4]\u001b[39m",
      "",
      "Stacktrace:",
      " [1] \u001b[1mthrow_boundserror\u001b[22m\u001b[22m\u001b[1m(\u001b[22m\u001b[22m::Array{Float64,2}, ::Tuple{Base.Slice{Base.OneTo{Int64}},Int64}\u001b[1m)\u001b[22m\u001b[22m at \u001b[1m./abstractarray.jl:434\u001b[22m\u001b[22m",
      " [2] \u001b[1mcheckbounds\u001b[22m\u001b[22m at \u001b[1m./abstractarray.jl:362\u001b[22m\u001b[22m [inlined]",
      " [3] \u001b[1mmacro expansion\u001b[22m\u001b[22m at \u001b[1m./multidimensional.jl:494\u001b[22m\u001b[22m [inlined]",
      " [4] \u001b[1m_getindex\u001b[22m\u001b[22m at \u001b[1m./multidimensional.jl:491\u001b[22m\u001b[22m [inlined]",
      " [5] \u001b[1mgetindex\u001b[22m\u001b[22m\u001b[1m(\u001b[22m\u001b[22m::Array{Float64,2}, ::Colon, ::Int64\u001b[1m)\u001b[22m\u001b[22m at \u001b[1m./abstractarray.jl:883\u001b[22m\u001b[22m",
      " [6] \u001b[1membedding\u001b[22m\u001b[22m\u001b[1m(\u001b[22m\u001b[22m::SpectralClustering.NystromMethod{SpectralClustering.EvenlySpacedLandmarkSelection}, ::Array{Float32,2}, ::Array{Float32,2}, ::Array{Int64,1}\u001b[1m)\u001b[22m\u001b[22m at \u001b[1m/home/luciano/.julia/v0.6/SpectralClustering/src/ApproximateEmbedding.jl:271\u001b[22m\u001b[22m",
      " [7] \u001b[1membedding\u001b[22m\u001b[22m\u001b[1m(\u001b[22m\u001b[22m::SpectralClustering.NystromMethod{SpectralClustering.EvenlySpacedLandmarkSelection}, ::Array{Int64,1}, ::Array{ColorTypes.RGB{FixedPointNumbers.Normed{UInt8,8}},2}\u001b[1m)\u001b[22m\u001b[22m at \u001b[1m/home/luciano/.julia/v0.6/SpectralClustering/src/ApproximateEmbedding.jl:220\u001b[22m\u001b[22m",
      " [8] \u001b[1membedding\u001b[22m\u001b[22m\u001b[1m(\u001b[22m\u001b[22m::SpectralClustering.NystromMethod{SpectralClustering.EvenlySpacedLandmarkSelection}, ::Array{ColorTypes.RGB{FixedPointNumbers.Normed{UInt8,8}},2}\u001b[1m)\u001b[22m\u001b[22m at \u001b[1m/home/luciano/.julia/v0.6/SpectralClustering/src/ApproximateEmbedding.jl:199\u001b[22m\u001b[22m",
      " [9] \u001b[1minclude_string\u001b[22m\u001b[22m\u001b[1m(\u001b[22m\u001b[22m::String, ::String\u001b[1m)\u001b[22m\u001b[22m at \u001b[1m./loading.jl:522\u001b[22m\u001b[22m"
     ]
    }
   ],
   "source": [
    "using TestImages,  Images, Plots, Clustering,  SpectralClustering, Distances, Extras \n",
    "pyplot()\n",
    "function weight(i::Integer,j::Vector{<:Integer},pixel_i, neighbors_data)\n",
    "    return vec(prod(exp.(-abs.(pixel_i[3:5].-neighbors_data[3:5,:])./(2*0.1^2)),1))\n",
    "end\n",
    "img                      = testimage(\"mandrill\")\n",
    "number_of_pixels         = size(img,1)*size(img,2)\n",
    "number_of_sampled_points = round(Int,number_of_pixels * 0.005)\n",
    "nvec                     = 3\n",
    "knnconfig                = PixelNeighborhood(3)\n",
    "nystrom                  = NystromMethod(\n",
    "                              EvenlySpacedLandmarkSelection(),\n",
    "                              number_of_sampled_points,\n",
    "                              weight,\n",
    "                              nvec,\n",
    "                              false)\n",
    "embedded_patterns        = embedding(nystrom, img)\n",
    "img_embedded             = Extras.embedded_image(size(img), embedded_patterns)\n",
    "plt1 = Plots.plot(img_embedded, title=\"Eigenvector embedding\") \n",
    "plt2 = Plots.plot(img, title =\"Original image\")\n",
    "Plots.plot(plt2, plt1, layout=(@layout grid(1,2)) , size=(600,600))"
   ]
  },
  {
   "cell_type": "markdown",
   "metadata": {},
   "source": [
    "## DNCuts\n",
    "In [Multiscale Combinatorial Grouping for Image Segmentation and Object Proposal Generation](#pont2017multiscale) the authors presented a a technique for approximating the eigenvectors in a very efficiently way.\n",
    "Their algorithm is based in two observations:\n",
    "- The eigenvectors of the Laplacian $L$ are the same as the eigenvectors of $A^2$\n",
    "- The eigenvectors of a downsampled version of L should be similar to the eigenvectors of $L$.\n",
    "\n",
    "The idea is to decimate the simmiliraty matrix to obtain $W[i,i]$. This matrix is obtained by removing the rows and columns corresponding to the pixels in every even column  and every even row of the image. The next step is propagate the affinities $W[i,i]$ by squaring the matrix. This procedure is carried for a few iterations. Then the eigenvectors of the last version of the decimated matrix is obtained. And finally the eigenvectors are upsampled to the original size. \n",
    "\n",
    "Their technique \"is similar to Nystrom’s method for computing the eigenvectors of a subset of A, but our squaring-and-decimation procedure means that we do not depend on long-range connections between pixels.\""
   ]
  },
  {
   "cell_type": "code",
   "execution_count": 15,
   "metadata": {},
   "outputs": [
    {
     "name": "stderr",
     "output_type": "stream",
     "text": [
      "WARNING: Method definition embedding(SpectralClustering.NgLaplacian, LightGraphs.LinAlg.CombinatorialAdjacency{T, S, V} where V where S where T) in module SpectralClustering at /home/luciano/.julia/v0.6/SpectralClustering/src/Embedding.jl:45 overwritten at /home/luciano/.julia/v0.6/SpectralClustering/src/Embedding.jl:45.\n",
      "\u001b[1m\u001b[33mWARNING: \u001b[39m\u001b[22m\u001b[33mreplacing docs for 'SpectralClustering.embedding :: Tuple{SpectralClustering.NgLaplacian,LightGraphs.LinAlg.CombinatorialAdjacency}' in module 'SpectralClustering'.\u001b[39m\n",
      "WARNING: Method definition embedding(SpectralClustering.NgLaplacian, LightGraphs.LinAlg.NormalizedAdjacency{T} where T) in module SpectralClustering at /home/luciano/.julia/v0.6/SpectralClustering/src/Embedding.jl:55 overwritten at /home/luciano/.julia/v0.6/SpectralClustering/src/Embedding.jl:56.\n",
      "\u001b[1m\u001b[33mWARNING: \u001b[39m\u001b[22m\u001b[33mreplacing docs for 'SpectralClustering.embedding :: Tuple{SpectralClustering.NgLaplacian,LightGraphs.LinAlg.NormalizedAdjacency}' in module 'SpectralClustering'.\u001b[39m\n"
     ]
    },
    {
     "name": "stdout",
     "output_type": "stream",
     "text": [
      "(16384, 16384)\n",
      "a\n"
     ]
    },
    {
     "ename": "LoadError",
     "evalue": "\u001b[91mBase.LinAlg.ARPACKException(\"unspecified ARPACK error: 1\")\u001b[39m",
     "output_type": "error",
     "traceback": [
      "\u001b[91mBase.LinAlg.ARPACKException(\"unspecified ARPACK error: 1\")\u001b[39m",
      "",
      "Stacktrace:",
      " [1] \u001b[1maupd_wrapper\u001b[22m\u001b[22m\u001b[1m(\u001b[22m\u001b[22m::Type{T} where T, ::Base.LinAlg.#matvecA!#114{LightGraphs.LinAlg.NormalizedAdjacency{Float64}}, ::Base.LinAlg.##108#115, ::Base.LinAlg.##109#116, ::Int64, ::Bool, ::Bool, ::String, ::Int64, ::Int64, ::String, ::Float64, ::Int64, ::Int64, ::Array{Float64,1}\u001b[1m)\u001b[22m\u001b[22m at \u001b[1m./linalg/arpack.jl:52\u001b[22m\u001b[22m",
      " [2] \u001b[1m#_eigs#107\u001b[22m\u001b[22m\u001b[1m(\u001b[22m\u001b[22m::Int64, ::Int64, ::Symbol, ::Float64, ::Int64, ::Void, ::Array{Float64,1}, ::Bool, ::Base.LinAlg.#_eigs, ::LightGraphs.LinAlg.NormalizedAdjacency{Float64}, ::UniformScaling{Int64}\u001b[1m)\u001b[22m\u001b[22m at \u001b[1m./linalg/arnoldi.jl:285\u001b[22m\u001b[22m",
      " [3] \u001b[1m(::Base.LinAlg.#kw##_eigs)\u001b[22m\u001b[22m\u001b[1m(\u001b[22m\u001b[22m::Array{Any,1}, ::Base.LinAlg.#_eigs, ::LightGraphs.LinAlg.NormalizedAdjacency{Float64}, ::UniformScaling{Int64}\u001b[1m)\u001b[22m\u001b[22m at \u001b[1m./<missing>:0\u001b[22m\u001b[22m",
      " [4] \u001b[1m#eigs#106\u001b[22m\u001b[22m at \u001b[1m./linalg/arnoldi.jl:170\u001b[22m\u001b[22m [inlined]",
      " [5] \u001b[1m(::Base.LinAlg.#kw##eigs)\u001b[22m\u001b[22m\u001b[1m(\u001b[22m\u001b[22m::Array{Any,1}, ::Base.LinAlg.#eigs, ::LightGraphs.LinAlg.NormalizedAdjacency{Float64}, ::UniformScaling{Int64}\u001b[1m)\u001b[22m\u001b[22m at \u001b[1m./<missing>:0\u001b[22m\u001b[22m",
      " [6] \u001b[1m#eigs#99\u001b[22m\u001b[22m at \u001b[1m./linalg/arnoldi.jl:90\u001b[22m\u001b[22m [inlined]",
      " [7] \u001b[1m(::Base.LinAlg.#kw##eigs)\u001b[22m\u001b[22m\u001b[1m(\u001b[22m\u001b[22m::Array{Any,1}, ::Base.LinAlg.#eigs, ::LightGraphs.LinAlg.NormalizedAdjacency{Float64}\u001b[1m)\u001b[22m\u001b[22m at \u001b[1m./<missing>:0\u001b[22m\u001b[22m",
      " [8] \u001b[1membedding\u001b[22m\u001b[22m\u001b[1m(\u001b[22m\u001b[22m::SpectralClustering.NgLaplacian, ::LightGraphs.LinAlg.NormalizedAdjacency{Float64}\u001b[1m)\u001b[22m\u001b[22m at \u001b[1m/home/luciano/.julia/v0.6/SpectralClustering/src/Embedding.jl:56\u001b[22m\u001b[22m",
      " [9] \u001b[1membedding\u001b[22m\u001b[22m\u001b[1m(\u001b[22m\u001b[22m::SpectralClustering.DNCuts, ::SparseMatrixCSC{Float64,Int64}\u001b[1m)\u001b[22m\u001b[22m at \u001b[1m/home/luciano/.julia/v0.6/SpectralClustering/src/ApproximateEmbedding.jl:345\u001b[22m\u001b[22m",
      " [10] \u001b[1minclude_string\u001b[22m\u001b[22m\u001b[1m(\u001b[22m\u001b[22m::String, ::String\u001b[1m)\u001b[22m\u001b[22m at \u001b[1m./loading.jl:522\u001b[22m\u001b[22m"
     ]
    }
   ],
   "source": [
    "using Clustering, Images, TestImages, SpectralClustering,Distances,Extras, Plots, LightGraphs\n",
    "pyplot()\n",
    "function weight(i::Integer,j::Vector{<:Integer},pixel_i, neighbors_data)\n",
    "    return vec(prod(exp.(-abs.(pixel_i[3:5].-neighbors_data[3:5,:])./(2*0.1^2)),1))\n",
    "end\n",
    "img          = testimage(\"mandrill\");\n",
    "nconfig      = PixelNeighborhood(2);\n",
    "graph        = create(nconfig,weight,  img);\n",
    "nev          = 3\n",
    "scales       = 2\n",
    "dncuts       = DNCuts(scales, nev, size(img));\n",
    "V            = embedding(dncuts, adjacency_matrix(graph));\n",
    "img_embedded = Extras.embedded_image(size(img), V)\n",
    "plt1 = Plots.plot(img_embedded)\n",
    "plt2 = Plots.plot(img)\n",
    "Plots.plot(plt2, plt1, layout=(@layout grid(1,2)) , size=(600,600))\n"
   ]
  },
  {
   "cell_type": "markdown",
   "metadata": {
    "hide_input": true
   },
   "source": [
    "# Bibliography"
   ]
  },
  {
   "cell_type": "code",
   "execution_count": 5,
   "metadata": {
    "hide_input": true
   },
   "outputs": [
    {
     "data": {
      "text/html": [
       "<!DOCTYPE html PUBLIC \"-//W3C//DTD HTML 4.01//EN\">\n",
       "<html>\n",
       "<head><meta name=\"generator\" content=\"Pybtex\">\n",
       "<meta http-equiv=\"Content-Type\" content=\"text/html; charset=utf-8\">\n",
       "<title>Bibliography</title>\n",
       "</head>\n",
       "<body>\n",
       "<dl>\n",
       "<dt> <a name=\"pont2017multiscale\">+017</a></dt>\n",
       "<dd>Jordi Pont-Tuset, Pablo Arbelaez, Jonathan&nbsp;T Barron, Ferran Marques, and Jitendra Malik.\n",
       "Multiscale combinatorial grouping for image segmentation and object proposal generation.\n",
       "<em>IEEE transactions on pattern analysis and machine intelligence</em>, 2017.</dd>\n",
       "<dt> <a name=\"fowlkes2004spectral\">FBCM004</a></dt>\n",
       "<dd>Charless Fowlkes, Serge Belongie, Fan Chung, and Jitendra Malik.\n",
       "Spectral grouping using the nystrom method.\n",
       "<em>IEEE transactions on pattern analysis and machine intelligence</em>, 2004.</dd>\n",
       "</dl></body></html>\n"
      ]
     },
     "metadata": {},
     "output_type": "display_data"
    }
   ],
   "source": [
    "using DocUtils\n",
    "display(\"text/html\",bibliography([\"pont2017multiscale\", \"fowlkes2004spectral\"]))\n"
   ]
  }
 ],
 "metadata": {
  "kernelspec": {
   "display_name": "Julia 0.6.2",
   "language": "julia",
   "name": "julia-0.6"
  },
  "language_info": {
   "file_extension": ".jl",
   "mimetype": "application/julia",
   "name": "julia",
   "version": "0.6.2"
  }
 },
 "nbformat": 4,
 "nbformat_minor": 2
}
