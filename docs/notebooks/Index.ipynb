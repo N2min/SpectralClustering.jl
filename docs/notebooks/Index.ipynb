{
 "cells": [
  {
   "cell_type": "markdown",
   "metadata": {},
   "source": [
    "# Examples\n",
    "### [1. Graph creation](Graph creation.html)\n",
    "### [2. Embedding](Embedding.html)\n",
    "### [3. Approximate Embedding](Approximate Embedding.html)\n",
    "### [4. Eigenvector Clustering](Eigenvector Clustering.html)\n",
    "### [5. Multiview Embedding](Multiview Embedding.html)"
   ]
  },
  {
   "cell_type": "markdown",
   "metadata": {},
   "source": [
    "## Requirements for running the examples"
   ]
  },
  {
   "cell_type": "code",
   "execution_count": null,
   "metadata": {},
   "outputs": [],
   "source": [
    "using Pkg\n",
    "for pkg in [\"Documenter\",\"Formatting\", \"Images\", \"TestImages\", \"RDatasets\", \n",
    "            \"InfoZIP\", \"ImageView\", \"ImageMagick\", \"Measures\",\n",
    "            \"Mustache\",\"StringEncodings\",  \"Latexify\"]\n",
    "    Pkg.add(pkg) \n",
    "end\n",
    "\n",
    "\n"
   ]
  }
 ],
 "metadata": {
  "kernelspec": {
   "display_name": "Julia 1.2.0",
   "language": "julia",
   "name": "julia-1.2"
  },
  "language_info": {
   "file_extension": ".jl",
   "mimetype": "application/julia",
   "name": "julia",
   "version": "1.2.0"
  }
 },
 "nbformat": 4,
 "nbformat_minor": 2
}
