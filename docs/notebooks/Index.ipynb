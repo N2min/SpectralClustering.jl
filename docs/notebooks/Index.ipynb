{
 "cells": [
  {
   "cell_type": "markdown",
   "metadata": {},
   "source": [
    "# Examples\n",
    "### [1. Embedding](Embedding.html)\n",
    "### [2. Graph creation](Graph creation.html)\n",
    "### [3. Approximate Embedding](Approximate Embedding.html)\n",
    "### [4. Eigenvector Clustering](Eigenvector Clustering.html)\n",
    "### [5. Multiview Embedding](Multiview Embedding.html)"
   ]
  },
  {
   "cell_type": "markdown",
   "metadata": {},
   "source": [
    "## Requirements"
   ]
  },
  {
   "cell_type": "code",
   "execution_count": null,
   "metadata": {},
   "outputs": [],
   "source": [
    "for pkg in [\"Documenter\",\"Formatting\", \"Images\", \"TestImages\", \"RDatasets\", \n",
    "            \"InfoZIP\", \"ImageView\", \"ImageMagick\",\n",
    "            \"Mustache\",\"StringEncodings\", \"TextAnalysis\", \"Latexify\"]\n",
    "    Pkg.add(pkg) \n",
    "end\n",
    "Pkg.clone(\"https://github.com/bramtayl/BibTeX.jl.git\")\n",
    "Pkg.clone(\"https://github.com/lucianolorenti/BibTeXFormat.jl.git\")\n",
    "\n"
   ]
  }
 ],
 "metadata": {
  "kernelspec": {
   "display_name": "Julia 0.6.2",
   "language": "julia",
   "name": "julia-0.6"
  },
  "language_info": {
   "file_extension": ".jl",
   "mimetype": "application/julia",
   "name": "julia",
   "version": "0.6.2"
  }
 },
 "nbformat": 4,
 "nbformat_minor": 2
}
