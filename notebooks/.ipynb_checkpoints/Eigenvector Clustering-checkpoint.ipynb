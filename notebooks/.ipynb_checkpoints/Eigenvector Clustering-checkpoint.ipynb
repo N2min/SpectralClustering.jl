{
 "cells": [
  {
   "cell_type": "code",
   "execution_count": 2,
   "metadata": {},
   "outputs": [],
   "source": [
    "push!(LOAD_PATH, joinpath(Pkg.dir(\"SpectralClustering\"), \"docs\"));"
   ]
  },
  {
   "cell_type": "markdown",
   "metadata": {},
   "source": [
    "# Eigenvector Clustering\n",
    "\n",
    "Once the eigenvectors are obtained, we have a continuous solution for a discrete problem. In order to obtain an assigment for every pattern,  it is needed to discretize the eigenvectors.\n",
    "Obtaining this discrete solution from eigenvectors often requires solving another clustering problem, albeit in a lower-dimensional space. That is, eigenvectors are treated as geometrical coordinates of a point set.\n",
    "\n",
    "This library provides two methods two obtain the discrete solution:\n",
    "- Kmeans by means of [Clustering.jl](https://github.com/JuliaStats/Clustering.jl)\n",
    "- The one proposed in [Multiclass spectral clustering](#stella2003multiclass)\n"
   ]
  },
  {
   "cell_type": "markdown",
   "metadata": {},
   "source": [
    "## Text clustering\n",
    "In this example a  [Health News in Twitter Data Set](https://archive.ics.uci.edu/ml/datasets/Health+News+in+Twitter) is clusterized in 7 groups. Every tweet is represented as a boolean term array and the simmilarity between two tweets is defined as:\n",
    "\n",
    "$$\n",
    "w(i,j) = exp\\left( -\\dfrac{Hamming(x_i, x_j)}{(2\\cdot\\alpha^2 )}  \\right)\n",
    "$$\n",
    "\n",
    "where $x_i$ and $x_j$ are two tweets and $\\alpha$ es the mean hamming distance between the first 1000 tweets."
   ]
  },
  {
   "cell_type": "code",
   "execution_count": 2,
   "metadata": {
    "hidePrompt": true
   },
   "outputs": [
    {
     "name": "stderr",
     "output_type": "stream",
     "text": [
      "WARNING: Compat.UTF8String is deprecated, use String instead.\n",
      "  likely near In[2]:7\n"
     ]
    }
   ],
   "source": [
    "using Extras, Distances,SpectralClustering, TextAnalysis, Plots, Clustering\n",
    "function weight(i::Integer,j::Vector{<:Integer},tweet_i, neighbors_data,scale)\n",
    "    local d = Distances.colwise(Jaccard(), tweet_i, neighbors_data)    \n",
    "    return exp.(-(d.^2/(2*(scale^2))))\n",
    "end\n",
    "\n",
    "data        = Extras.health_tweets(number_of_tweets=10000);\n",
    "docu_term_m = DocumentTermMatrix(data);\n",
    "scale       = mean(pairwise(Jaccard(),full(docu_term_m.dtm[1:1000,:]')))\n",
    "nconfig     = RandomNeighborhood(20);\n",
    "G           = create(Float32, nconfig, (i,j, t_i, n_d)->weight(i,j,t_i,n_d,scale), docu_term_m.dtm');\n",
    "emb         = embedding(NgLaplacian(7), G);\n",
    "c1          = SpectralClustering.clusterize(YuEigenvectorRotation(), emb);\n",
    "c2          = SpectralClustering.clusterize(KMeansClusterizer(7), emb);\n",
    "output      = tweets_output([c1, c2],  [\"Eigenvector Rotation\", \"KMeans\"], docu_term_m);"
   ]
  },
  {
   "cell_type": "code",
   "execution_count": 26,
   "metadata": {
    "hide_input": true
   },
   "outputs": [
    {
     "data": {
      "application/javascript": [
       "requirejs.config({\n",
       "paths: {\n",
       "    d3: 'https://cdnjs.cloudflare.com/ajax/libs/d3/4.13.0/d3.min',\n",
       "}})\n",
       "  \n",
       "require([\"d3\"], function(d3) {\n",
       "var svg = d3.select(\"svg\"),\n",
       "    margin = 20,\n",
       "    diameter = +svg.attr(\"width\"),\n",
       "    g = svg.append(\"g\").attr(\"transform\", \"translate(\" + diameter / 2 + \",\" + diameter / 2 + \")\");\n",
       "\n",
       "var color = d3.scaleLinear()\n",
       "    .domain([-1, 5])\n",
       "    .range([\"hsl(152,80%,80%)\", \"hsl(228,30%,40%)\"])\n",
       "    .interpolate(d3.interpolateHcl);\n",
       "\n",
       "var pack = d3.pack()\n",
       "    .size([diameter - margin, diameter - margin])\n",
       "    .padding(2);\n",
       "var root = {\"name\":\"result\",\"children\":[{\"name\":\"Eigenvector Rotation\",\"children\":[{\"name\":\"Cluster 6\",\"children\":[{\"name\":\"drug\",\"size\":0.0042645778938207165},{\"name\":\"weight\",\"size\":0.0034812880765883406},{\"name\":\"q\",\"size\":0.0033072236727589234},{\"name\":\"heart\",\"size\":0.003220191470844215},{\"name\":\"people\",\"size\":0.003220191470844215},{\"name\":\"food\",\"size\":0.002959094865100089},{\"name\":\"goodhealth\",\"size\":0.002872062663185381},{\"name\":\"law\",\"size\":0.002872062663185381},{\"name\":\"time\",\"size\":0.0027850304612706722},{\"name\":\"video\",\"size\":0.0027850304612706722},{\"name\":\"cynthiasass\",\"size\":0.002697998259355964},{\"name\":\"hospital\",\"size\":0.002697998259355964},{\"name\":\"women\",\"size\":0.0026109660574412555},{\"name\":\"outbreak\",\"size\":0.002523933855526547},{\"name\":\"doctors\",\"size\":0.00234986945169713}]},{\"name\":\"Cluster 4\",\"children\":[{\"name\":\"drug\",\"size\":0.004196697381625764},{\"name\":\"law\",\"size\":0.0039229997263023455},{\"name\":\"heart\",\"size\":0.003831767174527872},{\"name\":\"kids\",\"size\":0.00319313931210656},{\"name\":\"doctors\",\"size\":0.0030106742085576135},{\"name\":\"healthy\",\"size\":0.0030106742085576135},{\"name\":\"hospital\",\"size\":0.0030106742085576135},{\"name\":\"brain\",\"size\":0.0029194416567831405},{\"name\":\"food\",\"size\":0.002828209105008667},{\"name\":\"insurance\",\"size\":0.002828209105008667},{\"name\":\"mental\",\"size\":0.002828209105008667},{\"name\":\"people\",\"size\":0.002828209105008667},{\"name\":\"disease\",\"size\":0.002736976553234194},{\"name\":\"life\",\"size\":0.002463278897910775},{\"name\":\"q\",\"size\":0.002463278897910775}]},{\"name\":\"Cluster 5\",\"children\":[{\"name\":\"drug\",\"size\":0.003489578421201549},{\"name\":\"weight\",\"size\":0.003489578421201549},{\"name\":\"hospital\",\"size\":0.00330095256059606},{\"name\":\"kids\",\"size\":0.0031123266999905706},{\"name\":\"diet\",\"size\":0.0030180137696878264},{\"name\":\"goodhealth\",\"size\":0.0029237008393850823},{\"name\":\"q\",\"size\":0.0029237008393850823},{\"name\":\"time\",\"size\":0.0028293879090823372},{\"name\":\"video\",\"size\":0.0028293879090823372},{\"name\":\"fda\",\"size\":0.002735074978779593},{\"name\":\"doctors\",\"size\":0.002640762048476848},{\"name\":\"law\",\"size\":0.002640762048476848},{\"name\":\"cynthiasass\",\"size\":0.002546449118174104},{\"name\":\"food\",\"size\":0.002546449118174104},{\"name\":\"healthy\",\"size\":0.002546449118174104}]},{\"name\":\"Cluster 2\",\"children\":[{\"name\":\"people\",\"size\":0.004063914288353188},{\"name\":\"heart\",\"size\":0.003602105846494871},{\"name\":\"drug\",\"size\":0.0035097441581232076},{\"name\":\"hospital\",\"size\":0.0034173824697515446},{\"name\":\"kids\",\"size\":0.003325020781379881},{\"name\":\"fda\",\"size\":0.003047935716264891},{\"name\":\"time\",\"size\":0.003047935716264891},{\"name\":\"diet\",\"size\":0.0029555740278932275},{\"name\":\"healthy\",\"size\":0.0028632123395215645},{\"name\":\"stefaniei\",\"size\":0.002586127274406574},{\"name\":\"weight\",\"size\":0.002586127274406574},{\"name\":\"insurance\",\"size\":0.0024937655860349105},{\"name\":\"food\",\"size\":0.0024014038976632474},{\"name\":\"life\",\"size\":0.002309042209291584},{\"name\":\"reports\",\"size\":0.002309042209291584}]},{\"name\":\"Cluster 7\",\"children\":[{\"name\":\"drug\",\"size\":0.0033768367253810302},{\"name\":\"kids\",\"size\":0.0032855708679382996},{\"name\":\"hospital\",\"size\":0.0031030391530528388},{\"name\":\"women\",\"size\":0.0031030391530528388},{\"name\":\"doctors\",\"size\":0.002829241580724647},{\"name\":\"q\",\"size\":0.002829241580724647},{\"name\":\"fda\",\"size\":0.0027379757232819163},{\"name\":\"heart\",\"size\":0.0027379757232819163},{\"name\":\"cynthiasass\",\"size\":0.0025554440083964554},{\"name\":\"people\",\"size\":0.0025554440083964554},{\"name\":\"weight\",\"size\":0.0025554440083964554},{\"name\":\"food\",\"size\":0.002464178150953725},{\"name\":\"goodhealth\",\"size\":0.002464178150953725},{\"name\":\"stefaniei\",\"size\":0.002464178150953725},{\"name\":\"life\",\"size\":0.002372912293510994}]},{\"name\":\"Cluster 3\",\"children\":[{\"name\":\"drug\",\"size\":0.0043501903208265314},{\"name\":\"food\",\"size\":0.0035345296356715573},{\"name\":\"people\",\"size\":0.003353271705637118},{\"name\":\"kids\",\"size\":0.003262642740619899},{\"name\":\"goodhealth\",\"size\":0.0031720137756026793},{\"name\":\"q\",\"size\":0.00308138481058546},{\"name\":\"cynthiasass\",\"size\":0.0029001268805510213},{\"name\":\"fda\",\"size\":0.0029001268805510213},{\"name\":\"healthy\",\"size\":0.0029001268805510213},{\"name\":\"life\",\"size\":0.0029001268805510213},{\"name\":\"heart\",\"size\":0.0028094979155338018},{\"name\":\"hospital\",\"size\":0.0028094979155338018},{\"name\":\"obamacare\",\"size\":0.0027188689505165823},{\"name\":\"insurance\",\"size\":0.002628239985499363},{\"name\":\"video\",\"size\":0.002628239985499363}]}]},{\"name\":\"KMeans\",\"children\":[{\"name\":\"Cluster 5\",\"children\":[{\"name\":\"drug\",\"size\":0.004143044047099871},{\"name\":\"fda\",\"size\":0.003161796772786744},{\"name\":\"weight\",\"size\":0.003161796772786744},{\"name\":\"women\",\"size\":0.003161796772786744},{\"name\":\"diet\",\"size\":0.002943741822939382},{\"name\":\"insurance\",\"size\":0.0028347143480157017},{\"name\":\"life\",\"size\":0.0028347143480157017},{\"name\":\"q\",\"size\":0.0028347143480157017},{\"name\":\"food\",\"size\":0.002725686873092021},{\"name\":\"goodhealth\",\"size\":0.002725686873092021},{\"name\":\"kids\",\"size\":0.002725686873092021},{\"name\":\"law\",\"size\":0.002725686873092021},{\"name\":\"hospital\",\"size\":0.00261665939816834},{\"name\":\"try\",\"size\":0.00261665939816834},{\"name\":\"cynthiasass\",\"size\":0.0025076319232446593}]},{\"name\":\"Cluster 1\",\"children\":[{\"name\":\"drug\",\"size\":0.0036340316374519036},{\"name\":\"law\",\"size\":0.0033133817870885005},{\"name\":\"heart\",\"size\":0.003206498503634033},{\"name\":\"hospital\",\"size\":0.002992731936725097},{\"name\":\"weight\",\"size\":0.002992731936725097},{\"name\":\"people\",\"size\":0.0028858486532706293},{\"name\":\"disease\",\"size\":0.0027789653698161616},{\"name\":\"fat\",\"size\":0.0027789653698161616},{\"name\":\"healthy\",\"size\":0.0027789653698161616},{\"name\":\"kids\",\"size\":0.0027789653698161616},{\"name\":\"fda\",\"size\":0.0025651988029072263},{\"name\":\"brain\",\"size\":0.0024583155194527586},{\"name\":\"life\",\"size\":0.0024583155194527586},{\"name\":\"doctors\",\"size\":0.0023514322359982904},{\"name\":\"reports\",\"size\":0.0023514322359982904}]},{\"name\":\"Cluster 4\",\"children\":[{\"name\":\"drug\",\"size\":0.005342451116572283},{\"name\":\"people\",\"size\":0.0038465648039320436},{\"name\":\"hospital\",\"size\":0.0033123196922748154},{\"name\":\"kids\",\"size\":0.0033123196922748154},{\"name\":\"law\",\"size\":0.0033123196922748154},{\"name\":\"q\",\"size\":0.0033123196922748154},{\"name\":\"goodhealth\",\"size\":0.0032054706699433696},{\"name\":\"heart\",\"size\":0.0032054706699433696},{\"name\":\"time\",\"size\":0.0032054706699433696},{\"name\":\"cynthiasass\",\"size\":0.003098621647611924},{\"name\":\"healthy\",\"size\":0.002884923602949033},{\"name\":\"food\",\"size\":0.002778074580617587},{\"name\":\"disease\",\"size\":0.0026712255582861414},{\"name\":\"doctors\",\"size\":0.0026712255582861414},{\"name\":\"video\",\"size\":0.0026712255582861414}]},{\"name\":\"Cluster 7\",\"children\":[{\"name\":\"kids\",\"size\":0.004385964912280701},{\"name\":\"drug\",\"size\":0.0035505430242272333},{\"name\":\"doctors\",\"size\":0.0034461152882205503},{\"name\":\"q\",\"size\":0.0033416875522138665},{\"name\":\"time\",\"size\":0.0033416875522138665},{\"name\":\"people\",\"size\":0.003237259816207183},{\"name\":\"hospital\",\"size\":0.003028404344193817},{\"name\":\"video\",\"size\":0.003028404344193817},{\"name\":\"flu\",\"size\":0.002923976608187133},{\"name\":\"food\",\"size\":0.002923976608187133},{\"name\":\"healthy\",\"size\":0.002923976608187133},{\"name\":\"cynthiasass\",\"size\":0.00281954887218045},{\"name\":\"doctor\",\"size\":0.00281954887218045},{\"name\":\"heart\",\"size\":0.0027151211361737667},{\"name\":\"law\",\"size\":0.0027151211361737667}]},{\"name\":\"Cluster 3\",\"children\":[{\"name\":\"people\",\"size\":0.004237288135593217},{\"name\":\"weight\",\"size\":0.003919491525423725},{\"name\":\"drug\",\"size\":0.003389830508474573},{\"name\":\"heart\",\"size\":0.003389830508474573},{\"name\":\"hospital\",\"size\":0.003389830508474573},{\"name\":\"q\",\"size\":0.0031779661016949124},{\"name\":\"insurance\",\"size\":0.002860169491525421},{\"name\":\"doctors\",\"size\":0.0027542372881355906},{\"name\":\"diet\",\"size\":0.0026483050847457604},{\"name\":\"goodhealth\",\"size\":0.0026483050847457604},{\"name\":\"outbreak\",\"size\":0.0026483050847457604},{\"name\":\"cynthiasass\",\"size\":0.00254237288135593},{\"name\":\"fda\",\"size\":0.00254237288135593},{\"name\":\"food\",\"size\":0.00254237288135593},{\"name\":\"baby\",\"size\":0.0024364406779660997}]},{\"name\":\"Cluster 6\",\"children\":[{\"name\":\"drug\",\"size\":0.003870697771733448},{\"name\":\"kids\",\"size\":0.003766084318443355},{\"name\":\"heart\",\"size\":0.0036614708651532615},{\"name\":\"fda\",\"size\":0.0030337901454127025},{\"name\":\"food\",\"size\":0.0030337901454127025},{\"name\":\"video\",\"size\":0.002929176692122609},{\"name\":\"hospital\",\"size\":0.002824563238832516},{\"name\":\"obamacare\",\"size\":0.002824563238832516},{\"name\":\"q\",\"size\":0.002824563238832516},{\"name\":\"healthy\",\"size\":0.002719949785542423},{\"name\":\"law\",\"size\":0.002719949785542423},{\"name\":\"life\",\"size\":0.0026153363322523296},{\"name\":\"stefaniei\",\"size\":0.0026153363322523296},{\"name\":\"healthtalk\",\"size\":0.0025107228789622363},{\"name\":\"people\",\"size\":0.0025107228789622363}]},{\"name\":\"Cluster 2\",\"children\":[{\"name\":\"food\",\"size\":0.0032943676939426163},{\"name\":\"drug\",\"size\":0.0031880977683315637},{\"name\":\"hospital\",\"size\":0.0031880977683315637},{\"name\":\"fda\",\"size\":0.0030818278427205115},{\"name\":\"stefaniei\",\"size\":0.0029755579171094598},{\"name\":\"video\",\"size\":0.0029755579171094598},{\"name\":\"heart\",\"size\":0.002656748140276303},{\"name\":\"kids\",\"size\":0.002656748140276303},{\"name\":\"women\",\"size\":0.002656748140276303},{\"name\":\"goodhealth\",\"size\":0.0025504782146652514},{\"name\":\"diet\",\"size\":0.0024442082890541988},{\"name\":\"doctors\",\"size\":0.0024442082890541988},{\"name\":\"report\",\"size\":0.0024442082890541988},{\"name\":\"healthy\",\"size\":0.0023379383634431466},{\"name\":\"outbreak\",\"size\":0.0023379383634431466}]}]}]}\n",
       "var error = \"\"\n",
       "root = d3.hierarchy(root)\n",
       "    .sum(function(d) { return d.size; })\n",
       "    .sort(function(a, b) { return b.value - a.value; });\n",
       "\n",
       "var focus = root,\n",
       "    nodes = pack(root).descendants(),\n",
       "    view;\n",
       "\n",
       "var circle = g.selectAll(\"circle\")\n",
       ".data(nodes)\n",
       ".enter().append(\"circle\")\n",
       "    .attr(\"class\", function(d) { return d.parent ? d.children ? \"node\" : \"node node--leaf\" : \"node node--root\"; })\n",
       "    .style(\"fill\", function(d) { return d.children ? color(d.depth) : null; })\n",
       "    .on(\"click\", function(d) { if (focus !== d) zoom(d), d3.event.stopPropagation(); });\n",
       "\n",
       "var text = g.selectAll(\"text\")\n",
       ".data(nodes)\n",
       ".enter().append(\"text\")\n",
       "    .attr(\"class\", \"label\")\n",
       "    .style(\"fill-opacity\", function(d) { return d.parent === root ? 1 : 0; })\n",
       "    .style(\"display\", function(d) { return d.parent === root ? \"inline\" : \"none\"; })\n",
       "    .text(function(d) { return d.data.name; });\n",
       "\n",
       "var node = g.selectAll(\"circle,text\");\n",
       "\n",
       "svg\n",
       "    .style(\"background\", color(-1))\n",
       "    .on(\"click\", function() { zoom(root); });\n",
       "\n",
       "zoomTo([root.x, root.y, root.r * 2 + margin]);\n",
       "\n",
       "function zoom(d) {\n",
       "    var focus0 = focus; focus = d;\n",
       "\n",
       "    var transition = d3.transition()\n",
       "\t.duration(d3.event.altKey ? 7500 : 750)\n",
       "\t.tween(\"zoom\", function(d) {\n",
       "\t    var i = d3.interpolateZoom(view, [focus.x, focus.y, focus.r * 2 + margin]);\n",
       "\t    return function(t) { zoomTo(i(t)); };\n",
       "\t});\n",
       "\n",
       "    transition.selectAll(\"text\")\n",
       "\t.filter(function(d) { return d.parent === focus || this.style.display === \"inline\"; })\n",
       "\t.style(\"fill-opacity\", function(d) { return d.parent === focus ? 1 : 0; })\n",
       "\t.on(\"start\", function(d) { if (d.parent === focus) this.style.display = \"inline\"; })\n",
       "\t.on(\"end\", function(d) { if (d.parent !== focus) this.style.display = \"none\"; });\n",
       "}\n",
       "\n",
       "function zoomTo(v) {\n",
       "    var k = diameter / v[2]; view = v;\n",
       "    node.attr(\"transform\", function(d) { return \"translate(\" + (d.x - v[0]) * k + \",\" + (d.y - v[1]) * k + \")\"; });\n",
       "    circle.attr(\"r\", function(d) { return d.r * k; });\n",
       "}\n",
       "});\n"
      ]
     },
     "metadata": {},
     "output_type": "display_data"
    }
   ],
   "source": [
    "using DocUtils, JSON\n",
    "display(\"text/javascript\",file(\"tweets.js\", Dict{String,String}(\"data\"=>JSON.json(output))))"
   ]
  },
  {
   "cell_type": "code",
   "execution_count": 24,
   "metadata": {
    "hide_input": true,
    "scrolled": true
   },
   "outputs": [
    {
     "data": {
      "text/html": [
       "<style>\n",
       "\n",
       ".node {\n",
       "  cursor: pointer;\n",
       "}\n",
       "\n",
       ".node:hover {\n",
       "  stroke: #000;\n",
       "  stroke-width: 1.5px;\n",
       "}\n",
       "\n",
       ".node--leaf {\n",
       "  fill: white;\n",
       "}\n",
       "\n",
       ".label {\n",
       "  font: 11px \"Helvetica Neue\", Helvetica, Arial, sans-serif;\n",
       "  text-anchor: middle;\n",
       "  text-shadow: 0 1px 0 #fff, 1px 0 0 #fff, -1px 0 0 #fff, 0 -1px 0 #fff;\n",
       "}\n",
       "\n",
       ".label,\n",
       ".node--root,\n",
       ".node--leaf {\n",
       "  pointer-events: none;\n",
       "}\n",
       "\n",
       "</style>\n",
       "<script src=\"https://d3js.org/d3.v4.min.js\"></script>\n",
       "<svg width=\"960\" height=\"960\"></svg>\n"
      ]
     },
     "metadata": {},
     "output_type": "display_data"
    }
   ],
   "source": [
    "push!(LOAD_PATH, joinpath(Pkg.dir(\"SpectralClustering\"), \"docs\"));\n",
    "using DocUtils\n",
    "display(\"text/html\",file(\"tweets_html.html\"))"
   ]
  },
  {
   "cell_type": "markdown",
   "metadata": {},
   "source": [
    "# References"
   ]
  },
  {
   "cell_type": "code",
   "execution_count": 4,
   "metadata": {
    "hide_input": true
   },
   "outputs": [
    {
     "data": {
      "text/html": [
       "<!DOCTYPE html PUBLIC \"-//W3C//DTD HTML 4.01//EN\">\n",
       "<html>\n",
       "<head><meta name=\"generator\" content=\"Pybtex\">\n",
       "<meta http-equiv=\"Content-Type\" content=\"text/html; charset=utf-8\">\n",
       "<title>Bibliography</title>\n",
       "</head>\n",
       "<body>\n",
       "<dl>\n",
       "<dt> <a name=\"stella2003multiclass\">SS003</a></dt>\n",
       "<dd>X&nbsp;Yu Stella and Jianbo Shi.\n",
       "Multiclass spectral clustering.\n",
       "In <em>null</em>. IEEE, 2003.</dd>\n",
       "</dl></body></html>\n"
      ]
     },
     "metadata": {},
     "output_type": "display_data"
    }
   ],
   "source": [
    "using DocUtils\n",
    "display(\"text/html\",bibliography([\"stella2003multiclass\"]))"
   ]
  }
 ],
 "metadata": {
  "kernelspec": {
   "display_name": "Julia 0.6.2",
   "language": "julia",
   "name": "julia-0.6"
  },
  "language_info": {
   "file_extension": ".jl",
   "mimetype": "application/julia",
   "name": "julia",
   "version": "0.6.2"
  }
 },
 "nbformat": 4,
 "nbformat_minor": 2
}
